{
 "cells": [
  {
   "cell_type": "code",
   "execution_count": 13,
   "id": "49781213-2035-40db-a31a-8056052b3b3c",
   "metadata": {},
   "outputs": [],
   "source": [
    "# imports\n",
    "import pathlib\n",
    "import pandas as pd\n",
    "import numpy as np\n"
   ]
  },
  {
   "cell_type": "code",
   "execution_count": 3,
   "id": "5a729c3b-c6de-4547-a220-7bc6ba45454d",
   "metadata": {},
   "outputs": [],
   "source": [
    "# create dataframes\n",
    "treatment_csv = pathlib.Path('test_data.csv')\n",
    "treatment_df = pd.read_csv(treatment_csv)"
   ]
  },
  {
   "cell_type": "code",
   "execution_count": 4,
   "id": "72c3a7c8-4d07-4b2e-86c9-fee675a6e54f",
   "metadata": {},
   "outputs": [
    {
     "data": {
      "text/plain": [
       "Index(['age', 'gender', 'race', 'treatment', 'vote_registration'], dtype='object')"
      ]
     },
     "execution_count": 4,
     "metadata": {},
     "output_type": "execute_result"
    }
   ],
   "source": [
    "# get columns\n",
    "treatment_df.columns"
   ]
  },
  {
   "cell_type": "code",
   "execution_count": 5,
   "id": "1683a91e-06a3-4c60-9cc7-12099b9b82a7",
   "metadata": {},
   "outputs": [],
   "source": [
    "# create working copy\n",
    "working_copy_df = treatment_df"
   ]
  },
  {
   "cell_type": "code",
   "execution_count": 10,
   "id": "6d624086-633e-4bfb-996c-b2065df591bb",
   "metadata": {},
   "outputs": [
    {
     "data": {
      "text/plain": [
       "array(['Not Registered', 'Registered'], dtype=object)"
      ]
     },
     "execution_count": 10,
     "metadata": {},
     "output_type": "execute_result"
    }
   ],
   "source": [
    "# get values\n",
    "working_copy_df.gender.unique()\n",
    "working_copy_df.race.unique()\n",
    "working_copy_df.treatment.unique()\n",
    "working_copy_df.vote_registration.unique()"
   ]
  },
  {
   "cell_type": "code",
   "execution_count": 38,
   "id": "6ac64c66-8993-4b4e-9cd0-46ac6c89c5db",
   "metadata": {},
   "outputs": [],
   "source": [
    "#create age bins\n",
    "\n",
    "# bins = [-np.inf, 28, 44, 60, 59, 69, 79, 97, 103, np.inf].sort()\n",
    "# generation_label = ['Gen Z (Under 28)', 'Millennial (28-43)', 'Gen X (44-59)', 'Young Boomers (60-69)', 'Old Boomers (70-79)', 'Post-War (79-96)', 'WWII (97-102)', 'Depression and Older (103 and older)'  ]\n",
    "# working_copy_df['generation'] = pd.cut(working_copy_df['age'], bins=bins, labels=generation_label, right=False).cat.add_categories('missing').fillna('missing')\n",
    "# working_copy_df\n",
    "\n",
    "working_copy_df['age_quartile'] = pd.qcut(working_copy_df['age'], q=4, labels=['Q1', 'Q2', 'Q3', 'Q4'])\n",
    "\n",
    "working_copy_df['age_quartile'].value_counts()\n",
    "\n",
    "df = working_copy_df\n"
   ]
  },
  {
   "cell_type": "code",
   "execution_count": 46,
   "id": "512d5980-fd03-4740-88db-14ad00dbda79",
   "metadata": {},
   "outputs": [
    {
     "name": "stdout",
     "output_type": "stream",
     "text": [
      "                 age         \n",
      "               count min  max\n",
      "age_quartile                 \n",
      "Q1            169776  19   34\n",
      "Q2            152973  35   47\n",
      "Q3            161136  48   62\n",
      "Q4            153815  63  115\n"
     ]
    },
    {
     "name": "stderr",
     "output_type": "stream",
     "text": [
      "/var/folders/48/pzsf5jjs0wj756yk19j79q0w0000gn/T/ipykernel_8255/645409268.py:1: FutureWarning: The default of observed=False is deprecated and will be changed to True in a future version of pandas. Pass observed=False to retain current behavior or observed=True to adopt the future default and silence this warning.\n",
      "  result = working_copy_df.groupby('age_quartile').agg({'age': ['count', 'min', 'max']})\n"
     ]
    }
   ],
   "source": [
    "result = working_copy_df.groupby('age_quartile').agg({'age': ['count', 'min', 'max']}) \n",
    "print(result)\n",
    "\n"
   ]
  },
  {
   "cell_type": "code",
   "execution_count": null,
   "id": "fc9f4f80-c72f-4e37-9b80-e6187b835b80",
   "metadata": {},
   "outputs": [],
   "source": []
  }
 ],
 "metadata": {
  "kernelspec": {
   "display_name": "Python 3 (ipykernel)",
   "language": "python",
   "name": "python3"
  },
  "language_info": {
   "codemirror_mode": {
    "name": "ipython",
    "version": 3
   },
   "file_extension": ".py",
   "mimetype": "text/x-python",
   "name": "python",
   "nbconvert_exporter": "python",
   "pygments_lexer": "ipython3",
   "version": "3.11.7"
  }
 },
 "nbformat": 4,
 "nbformat_minor": 5
}
