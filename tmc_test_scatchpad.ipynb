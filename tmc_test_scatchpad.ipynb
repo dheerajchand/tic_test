{
 "cells": [
  {
   "cell_type": "code",
   "execution_count": 1,
   "id": "49781213-2035-40db-a31a-8056052b3b3c",
   "metadata": {},
   "outputs": [],
   "source": [
    "import pathlib\n",
    "import pandas as pd"
   ]
  },
  {
   "cell_type": "code",
   "execution_count": 3,
   "id": "5a729c3b-c6de-4547-a220-7bc6ba45454d",
   "metadata": {},
   "outputs": [],
   "source": [
    "treatment_csv = pathlib.Path('test_data.csv')\n",
    "treatment_df = pd.read_csv(treatment_csv)"
   ]
  },
  {
   "cell_type": "code",
   "execution_count": 4,
   "id": "72c3a7c8-4d07-4b2e-86c9-fee675a6e54f",
   "metadata": {},
   "outputs": [
    {
     "data": {
      "text/plain": [
       "Index(['age', 'gender', 'race', 'treatment', 'vote_registration'], dtype='object')"
      ]
     },
     "execution_count": 4,
     "metadata": {},
     "output_type": "execute_result"
    }
   ],
   "source": [
    "treatment_df.columns"
   ]
  }
 ],
 "metadata": {
  "kernelspec": {
   "display_name": "Python 3 (ipykernel)",
   "language": "python",
   "name": "python3"
  },
  "language_info": {
   "codemirror_mode": {
    "name": "ipython",
    "version": 3
   },
   "file_extension": ".py",
   "mimetype": "text/x-python",
   "name": "python",
   "nbconvert_exporter": "python",
   "pygments_lexer": "ipython3",
   "version": "3.11.7"
  }
 },
 "nbformat": 4,
 "nbformat_minor": 5
}
