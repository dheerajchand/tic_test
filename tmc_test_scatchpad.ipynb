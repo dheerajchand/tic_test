{
 "cells": [
  {
   "cell_type": "code",
   "execution_count": 13,
   "id": "49781213-2035-40db-a31a-8056052b3b3c",
   "metadata": {},
   "outputs": [],
   "source": [
    "# imports\n",
    "import pathlib\n",
    "import pandas as pd\n",
    "import numpy as np\n"
   ]
  },
  {
   "cell_type": "code",
   "execution_count": 3,
   "id": "5a729c3b-c6de-4547-a220-7bc6ba45454d",
   "metadata": {},
   "outputs": [],
   "source": [
    "# create dataframes\n",
    "treatment_csv = pathlib.Path('test_data.csv')\n",
    "treatment_df = pd.read_csv(treatment_csv)"
   ]
  },
  {
   "cell_type": "code",
   "execution_count": 4,
   "id": "72c3a7c8-4d07-4b2e-86c9-fee675a6e54f",
   "metadata": {},
   "outputs": [
    {
     "data": {
      "text/plain": [
       "Index(['age', 'gender', 'race', 'treatment', 'vote_registration'], dtype='object')"
      ]
     },
     "execution_count": 4,
     "metadata": {},
     "output_type": "execute_result"
    }
   ],
   "source": [
    "# get columns\n",
    "treatment_df.columns"
   ]
  },
  {
   "cell_type": "code",
   "execution_count": 5,
   "id": "1683a91e-06a3-4c60-9cc7-12099b9b82a7",
   "metadata": {},
   "outputs": [],
   "source": [
    "# create working copy\n",
    "working_copy_df = treatment_df"
   ]
  },
  {
   "cell_type": "code",
   "execution_count": 10,
   "id": "6d624086-633e-4bfb-996c-b2065df591bb",
   "metadata": {},
   "outputs": [
    {
     "data": {
      "text/plain": [
       "array(['Not Registered', 'Registered'], dtype=object)"
      ]
     },
     "execution_count": 10,
     "metadata": {},
     "output_type": "execute_result"
    }
   ],
   "source": [
    "# get values\n",
    "working_copy_df.gender.unique()\n",
    "working_copy_df.race.unique()\n",
    "working_copy_df.treatment.unique()\n",
    "working_copy_df.vote_registration.unique()"
   ]
  },
  {
   "cell_type": "code",
   "execution_count": 51,
   "id": "6ac64c66-8993-4b4e-9cd0-46ac6c89c5db",
   "metadata": {},
   "outputs": [
    {
     "name": "stdout",
     "output_type": "stream",
     "text": [
      "                                         age              \n",
      "                                       count    min    max\n",
      "generation                                                \n",
      "Gen Z (Under 28)                       72230   19.0   27.0\n",
      "Millennial (28-43)                    212311   28.0   43.0\n",
      "Gen X (44-59)                         165227   44.0   59.0\n",
      "Young Boomers (60-69)                 101997   60.0   69.0\n",
      "Old Boomers (70-79)                    50608   70.0   79.0\n",
      "Post-War (79-96)                       32446   80.0   96.0\n",
      "WWII (97-102)                           2699   97.0  102.0\n",
      "Depression and Older (103 and older)     182  103.0  115.0\n",
      "missing                                    0    NaN    NaN\n"
     ]
    },
    {
     "name": "stderr",
     "output_type": "stream",
     "text": [
      "/var/folders/48/pzsf5jjs0wj756yk19j79q0w0000gn/T/ipykernel_8255/3673792598.py:7: FutureWarning: The default of observed=False is deprecated and will be changed to True in a future version of pandas. Pass observed=False to retain current behavior or observed=True to adopt the future default and silence this warning.\n",
      "  result = working_copy_df.groupby('generation').agg({'age': ['count', 'min', 'max']})\n"
     ]
    }
   ],
   "source": [
    "#create age bins\n",
    "\n",
    "bins = [-np.inf, 28, 44, 60, 70, 80, 97, 103, np.inf]\n",
    "generation_label = ['Gen Z (Under 28)', 'Millennial (28-43)', 'Gen X (44-59)', 'Young Boomers (60-69)', 'Old Boomers (70-79)', 'Post-War (79-96)', 'WWII (97-102)', 'Depression and Older (103 and older)'  ]\n",
    "working_copy_df['generation'] = pd.cut(working_copy_df['age'], bins=bins, labels=generation_label, right=False).cat.add_categories('missing').fillna('missing')\n",
    "\n",
    "result = working_copy_df.groupby('generation').agg({'age': ['count', 'min', 'max']}) \n",
    "print(result)\n"
   ]
  },
  {
   "cell_type": "code",
   "execution_count": 47,
   "id": "512d5980-fd03-4740-88db-14ad00dbda79",
   "metadata": {},
   "outputs": [
    {
     "name": "stdout",
     "output_type": "stream",
     "text": [
      "                 age         \n",
      "               count min  max\n",
      "age_quartile                 \n",
      "Q1            169776  19   34\n",
      "Q2            152973  35   47\n",
      "Q3            161136  48   62\n",
      "Q4            153815  63  115\n"
     ]
    },
    {
     "name": "stderr",
     "output_type": "stream",
     "text": [
      "/var/folders/48/pzsf5jjs0wj756yk19j79q0w0000gn/T/ipykernel_8255/1456331561.py:4: FutureWarning: The default of observed=False is deprecated and will be changed to True in a future version of pandas. Pass observed=False to retain current behavior or observed=True to adopt the future default and silence this warning.\n",
      "  result = working_copy_df.groupby('age_quartile').agg({'age': ['count', 'min', 'max']})\n"
     ]
    }
   ],
   "source": [
    "working_copy_df['age_quartile'] = pd.qcut(working_copy_df['age'], q=4, labels=['Q1', 'Q2', 'Q3', 'Q4'])\n",
    "\n",
    "working_copy_df['age_quartile'].value_counts()\n",
    "result = working_copy_df.groupby('age_quartile').agg({'age': ['count', 'min', 'max']}) \n",
    "print(result)\n",
    "\n"
   ]
  },
  {
   "cell_type": "code",
   "execution_count": 52,
   "id": "fc9f4f80-c72f-4e37-9b80-e6187b835b80",
   "metadata": {},
   "outputs": [
    {
     "data": {
      "text/html": [
       "<div>\n",
       "<style scoped>\n",
       "    .dataframe tbody tr th:only-of-type {\n",
       "        vertical-align: middle;\n",
       "    }\n",
       "\n",
       "    .dataframe tbody tr th {\n",
       "        vertical-align: top;\n",
       "    }\n",
       "\n",
       "    .dataframe thead th {\n",
       "        text-align: right;\n",
       "    }\n",
       "</style>\n",
       "<table border=\"1\" class=\"dataframe\">\n",
       "  <thead>\n",
       "    <tr style=\"text-align: right;\">\n",
       "      <th>generation</th>\n",
       "      <th>Gen Z (Under 28)</th>\n",
       "      <th>Millennial (28-43)</th>\n",
       "      <th>Gen X (44-59)</th>\n",
       "      <th>Young Boomers (60-69)</th>\n",
       "      <th>Old Boomers (70-79)</th>\n",
       "      <th>Post-War (79-96)</th>\n",
       "      <th>WWII (97-102)</th>\n",
       "      <th>Depression and Older (103 and older)</th>\n",
       "    </tr>\n",
       "    <tr>\n",
       "      <th>age_quartile</th>\n",
       "      <th></th>\n",
       "      <th></th>\n",
       "      <th></th>\n",
       "      <th></th>\n",
       "      <th></th>\n",
       "      <th></th>\n",
       "      <th></th>\n",
       "      <th></th>\n",
       "    </tr>\n",
       "  </thead>\n",
       "  <tbody>\n",
       "    <tr>\n",
       "      <th>Q1</th>\n",
       "      <td>72230</td>\n",
       "      <td>97546</td>\n",
       "      <td>0</td>\n",
       "      <td>0</td>\n",
       "      <td>0</td>\n",
       "      <td>0</td>\n",
       "      <td>0</td>\n",
       "      <td>0</td>\n",
       "    </tr>\n",
       "    <tr>\n",
       "      <th>Q2</th>\n",
       "      <td>0</td>\n",
       "      <td>114765</td>\n",
       "      <td>38208</td>\n",
       "      <td>0</td>\n",
       "      <td>0</td>\n",
       "      <td>0</td>\n",
       "      <td>0</td>\n",
       "      <td>0</td>\n",
       "    </tr>\n",
       "    <tr>\n",
       "      <th>Q3</th>\n",
       "      <td>0</td>\n",
       "      <td>0</td>\n",
       "      <td>127019</td>\n",
       "      <td>34117</td>\n",
       "      <td>0</td>\n",
       "      <td>0</td>\n",
       "      <td>0</td>\n",
       "      <td>0</td>\n",
       "    </tr>\n",
       "    <tr>\n",
       "      <th>Q4</th>\n",
       "      <td>0</td>\n",
       "      <td>0</td>\n",
       "      <td>0</td>\n",
       "      <td>67880</td>\n",
       "      <td>50608</td>\n",
       "      <td>32446</td>\n",
       "      <td>2699</td>\n",
       "      <td>182</td>\n",
       "    </tr>\n",
       "  </tbody>\n",
       "</table>\n",
       "</div>"
      ],
      "text/plain": [
       "generation    Gen Z (Under 28)  Millennial (28-43)  Gen X (44-59)  \\\n",
       "age_quartile                                                        \n",
       "Q1                       72230               97546              0   \n",
       "Q2                           0              114765          38208   \n",
       "Q3                           0                   0         127019   \n",
       "Q4                           0                   0              0   \n",
       "\n",
       "generation    Young Boomers (60-69)  Old Boomers (70-79)  Post-War (79-96)  \\\n",
       "age_quartile                                                                 \n",
       "Q1                                0                    0                 0   \n",
       "Q2                                0                    0                 0   \n",
       "Q3                            34117                    0                 0   \n",
       "Q4                            67880                50608             32446   \n",
       "\n",
       "generation    WWII (97-102)  Depression and Older (103 and older)  \n",
       "age_quartile                                                       \n",
       "Q1                        0                                     0  \n",
       "Q2                        0                                     0  \n",
       "Q3                        0                                     0  \n",
       "Q4                     2699                                   182  "
      ]
     },
     "execution_count": 52,
     "metadata": {},
     "output_type": "execute_result"
    }
   ],
   "source": [
    "pd.crosstab(working_copy_df.age_quartile, working_copy_df.generation)"
   ]
  },
  {
   "cell_type": "code",
   "execution_count": 60,
   "id": "2bf20a28-66a1-4d09-ab5c-0b5469ee9ac4",
   "metadata": {},
   "outputs": [
    {
     "name": "stdout",
     "output_type": "stream",
     "text": [
      "                                                     age          \n",
      "                                                   count  min  max\n",
      "generation-sex-age                                                \n",
      "Depression and Older (103 and older)FemaleAfric...    14  103  113\n",
      "Depression and Older (103 and older)FemaleAsian        1  103  103\n",
      "Depression and Older (103 and older)FemaleCauca...    89  103  115\n",
      "Depression and Older (103 and older)MaleAfrican...     7  103  111\n",
      "Depression and Older (103 and older)MaleCaucasian     64  103  115\n",
      "...                                                  ...  ...  ...\n",
      "Young Boomers (60-69)UnknownAsian                    273   60   69\n",
      "Young Boomers (60-69)UnknownCaucasian               2077   60   69\n",
      "Young Boomers (60-69)UnknownHispanic                 178   60   69\n",
      "Young Boomers (60-69)UnknownNative American           16   60   69\n",
      "Young Boomers (60-69)UnknownUncoded                  350   60   69\n",
      "\n",
      "[133 rows x 3 columns]\n"
     ]
    }
   ],
   "source": [
    "# generations don't split evenly across quartiles, we'll use generation rather than quartile\n",
    "\n",
    "pd.crosstab(working_copy_df.generation, working_copy_df.race)\n",
    "\n",
    "working_copy_df['generation-sex-age'] = working_copy_df.generation.astype(str) + working_copy_df.gender.astype(str) + working_copy_df.race.astype(str)\n",
    "\n",
    "result = working_copy_df.groupby('generation-sex-age').agg({'age': ['count', 'min', 'max']}) \n",
    "print(result)\n"
   ]
  }
 ],
 "metadata": {
  "kernelspec": {
   "display_name": "Python 3 (ipykernel)",
   "language": "python",
   "name": "python3"
  },
  "language_info": {
   "codemirror_mode": {
    "name": "ipython",
    "version": 3
   },
   "file_extension": ".py",
   "mimetype": "text/x-python",
   "name": "python",
   "nbconvert_exporter": "python",
   "pygments_lexer": "ipython3",
   "version": "3.11.7"
  }
 },
 "nbformat": 4,
 "nbformat_minor": 5
}
