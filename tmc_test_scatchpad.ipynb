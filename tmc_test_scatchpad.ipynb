{
 "cells": [
  {
   "cell_type": "code",
   "execution_count": 13,
   "id": "49781213-2035-40db-a31a-8056052b3b3c",
   "metadata": {},
   "outputs": [],
   "source": [
    "# imports\n",
    "import pathlib\n",
    "import pandas as pd\n",
    "import numpy as np\n"
   ]
  },
  {
   "cell_type": "code",
   "execution_count": 3,
   "id": "5a729c3b-c6de-4547-a220-7bc6ba45454d",
   "metadata": {},
   "outputs": [],
   "source": [
    "# create dataframes\n",
    "treatment_csv = pathlib.Path('test_data.csv')\n",
    "treatment_df = pd.read_csv(treatment_csv)"
   ]
  },
  {
   "cell_type": "code",
   "execution_count": 4,
   "id": "72c3a7c8-4d07-4b2e-86c9-fee675a6e54f",
   "metadata": {},
   "outputs": [
    {
     "data": {
      "text/plain": [
       "Index(['age', 'gender', 'race', 'treatment', 'vote_registration'], dtype='object')"
      ]
     },
     "execution_count": 4,
     "metadata": {},
     "output_type": "execute_result"
    }
   ],
   "source": [
    "# get columns\n",
    "treatment_df.columns"
   ]
  },
  {
   "cell_type": "code",
   "execution_count": 5,
   "id": "1683a91e-06a3-4c60-9cc7-12099b9b82a7",
   "metadata": {},
   "outputs": [],
   "source": [
    "# create working copy\n",
    "working_copy_df = treatment_df"
   ]
  },
  {
   "cell_type": "code",
   "execution_count": 10,
   "id": "6d624086-633e-4bfb-996c-b2065df591bb",
   "metadata": {},
   "outputs": [
    {
     "data": {
      "text/plain": [
       "array(['Not Registered', 'Registered'], dtype=object)"
      ]
     },
     "execution_count": 10,
     "metadata": {},
     "output_type": "execute_result"
    }
   ],
   "source": [
    "# get values\n",
    "working_copy_df.gender.unique()\n",
    "working_copy_df.race.unique()\n",
    "working_copy_df.treatment.unique()\n",
    "working_copy_df.vote_registration.unique()"
   ]
  },
  {
   "cell_type": "code",
   "execution_count": 48,
   "id": "6ac64c66-8993-4b4e-9cd0-46ac6c89c5db",
   "metadata": {},
   "outputs": [
    {
     "ename": "TypeError",
     "evalue": "'<' not supported between instances of 'NoneType' and 'int'",
     "output_type": "error",
     "traceback": [
      "\u001b[0;31m---------------------------------------------------------------------------\u001b[0m",
      "\u001b[0;31mTypeError\u001b[0m                                 Traceback (most recent call last)",
      "Cell \u001b[0;32mIn[48], line 5\u001b[0m\n\u001b[1;32m      3\u001b[0m bins \u001b[38;5;241m=\u001b[39m [\u001b[38;5;241m-\u001b[39mnp\u001b[38;5;241m.\u001b[39minf, \u001b[38;5;241m28\u001b[39m, \u001b[38;5;241m44\u001b[39m, \u001b[38;5;241m60\u001b[39m, \u001b[38;5;241m59\u001b[39m, \u001b[38;5;241m69\u001b[39m, \u001b[38;5;241m79\u001b[39m, \u001b[38;5;241m97\u001b[39m, \u001b[38;5;241m103\u001b[39m, np\u001b[38;5;241m.\u001b[39minf]\u001b[38;5;241m.\u001b[39msort()\n\u001b[1;32m      4\u001b[0m generation_label \u001b[38;5;241m=\u001b[39m [\u001b[38;5;124m'\u001b[39m\u001b[38;5;124mGen Z (Under 28)\u001b[39m\u001b[38;5;124m'\u001b[39m, \u001b[38;5;124m'\u001b[39m\u001b[38;5;124mMillennial (28-43)\u001b[39m\u001b[38;5;124m'\u001b[39m, \u001b[38;5;124m'\u001b[39m\u001b[38;5;124mGen X (44-59)\u001b[39m\u001b[38;5;124m'\u001b[39m, \u001b[38;5;124m'\u001b[39m\u001b[38;5;124mYoung Boomers (60-69)\u001b[39m\u001b[38;5;124m'\u001b[39m, \u001b[38;5;124m'\u001b[39m\u001b[38;5;124mOld Boomers (70-79)\u001b[39m\u001b[38;5;124m'\u001b[39m, \u001b[38;5;124m'\u001b[39m\u001b[38;5;124mPost-War (79-96)\u001b[39m\u001b[38;5;124m'\u001b[39m, \u001b[38;5;124m'\u001b[39m\u001b[38;5;124mWWII (97-102)\u001b[39m\u001b[38;5;124m'\u001b[39m, \u001b[38;5;124m'\u001b[39m\u001b[38;5;124mDepression and Older (103 and older)\u001b[39m\u001b[38;5;124m'\u001b[39m  ]\n\u001b[0;32m----> 5\u001b[0m working_copy_df[\u001b[38;5;124m'\u001b[39m\u001b[38;5;124mgeneration\u001b[39m\u001b[38;5;124m'\u001b[39m] \u001b[38;5;241m=\u001b[39m \u001b[43mpd\u001b[49m\u001b[38;5;241;43m.\u001b[39;49m\u001b[43mcut\u001b[49m\u001b[43m(\u001b[49m\u001b[43mworking_copy_df\u001b[49m\u001b[43m[\u001b[49m\u001b[38;5;124;43m'\u001b[39;49m\u001b[38;5;124;43mage\u001b[39;49m\u001b[38;5;124;43m'\u001b[39;49m\u001b[43m]\u001b[49m\u001b[43m,\u001b[49m\u001b[43m \u001b[49m\u001b[43mbins\u001b[49m\u001b[38;5;241;43m=\u001b[39;49m\u001b[43mbins\u001b[49m\u001b[43m,\u001b[49m\u001b[43m \u001b[49m\u001b[43mlabels\u001b[49m\u001b[38;5;241;43m=\u001b[39;49m\u001b[43mgeneration_label\u001b[49m\u001b[43m,\u001b[49m\u001b[43m \u001b[49m\u001b[43mright\u001b[49m\u001b[38;5;241;43m=\u001b[39;49m\u001b[38;5;28;43;01mFalse\u001b[39;49;00m\u001b[43m)\u001b[49m\u001b[38;5;241m.\u001b[39mcat\u001b[38;5;241m.\u001b[39madd_categories(\u001b[38;5;124m'\u001b[39m\u001b[38;5;124mmissing\u001b[39m\u001b[38;5;124m'\u001b[39m)\u001b[38;5;241m.\u001b[39mfillna(\u001b[38;5;124m'\u001b[39m\u001b[38;5;124mmissing\u001b[39m\u001b[38;5;124m'\u001b[39m)\n\u001b[1;32m      6\u001b[0m working_copy_df\n",
      "File \u001b[0;32m~/.pyenv/versions/3.11.7/envs/geo3117/lib/python3.11/site-packages/pandas/core/reshape/tile.py:246\u001b[0m, in \u001b[0;36mcut\u001b[0;34m(x, bins, right, labels, retbins, precision, include_lowest, duplicates, ordered)\u001b[0m\n\u001b[1;32m    243\u001b[0m x_idx, _ \u001b[38;5;241m=\u001b[39m _coerce_to_type(x_idx)\n\u001b[1;32m    245\u001b[0m \u001b[38;5;28;01mif\u001b[39;00m \u001b[38;5;129;01mnot\u001b[39;00m np\u001b[38;5;241m.\u001b[39miterable(bins):\n\u001b[0;32m--> 246\u001b[0m     bins \u001b[38;5;241m=\u001b[39m \u001b[43m_nbins_to_bins\u001b[49m\u001b[43m(\u001b[49m\u001b[43mx_idx\u001b[49m\u001b[43m,\u001b[49m\u001b[43m \u001b[49m\u001b[43mbins\u001b[49m\u001b[43m,\u001b[49m\u001b[43m \u001b[49m\u001b[43mright\u001b[49m\u001b[43m)\u001b[49m\n\u001b[1;32m    248\u001b[0m \u001b[38;5;28;01melif\u001b[39;00m \u001b[38;5;28misinstance\u001b[39m(bins, IntervalIndex):\n\u001b[1;32m    249\u001b[0m     \u001b[38;5;28;01mif\u001b[39;00m bins\u001b[38;5;241m.\u001b[39mis_overlapping:\n",
      "File \u001b[0;32m~/.pyenv/versions/3.11.7/envs/geo3117/lib/python3.11/site-packages/pandas/core/reshape/tile.py:357\u001b[0m, in \u001b[0;36m_nbins_to_bins\u001b[0;34m(x_idx, nbins, right)\u001b[0m\n\u001b[1;32m    352\u001b[0m \u001b[38;5;28;01mdef\u001b[39;00m \u001b[38;5;21m_nbins_to_bins\u001b[39m(x_idx: Index, nbins: \u001b[38;5;28mint\u001b[39m, right: \u001b[38;5;28mbool\u001b[39m) \u001b[38;5;241m-\u001b[39m\u001b[38;5;241m>\u001b[39m Index:\n\u001b[1;32m    353\u001b[0m \u001b[38;5;250m    \u001b[39m\u001b[38;5;124;03m\"\"\"\u001b[39;00m\n\u001b[1;32m    354\u001b[0m \u001b[38;5;124;03m    If a user passed an integer N for bins, convert this to a sequence of N\u001b[39;00m\n\u001b[1;32m    355\u001b[0m \u001b[38;5;124;03m    equal(ish)-sized bins.\u001b[39;00m\n\u001b[1;32m    356\u001b[0m \u001b[38;5;124;03m    \"\"\"\u001b[39;00m\n\u001b[0;32m--> 357\u001b[0m     \u001b[38;5;28;01mif\u001b[39;00m is_scalar(nbins) \u001b[38;5;129;01mand\u001b[39;00m \u001b[43mnbins\u001b[49m\u001b[43m \u001b[49m\u001b[38;5;241;43m<\u001b[39;49m\u001b[43m \u001b[49m\u001b[38;5;241;43m1\u001b[39;49m:\n\u001b[1;32m    358\u001b[0m         \u001b[38;5;28;01mraise\u001b[39;00m \u001b[38;5;167;01mValueError\u001b[39;00m(\u001b[38;5;124m\"\u001b[39m\u001b[38;5;124m`bins` should be a positive integer.\u001b[39m\u001b[38;5;124m\"\u001b[39m)\n\u001b[1;32m    360\u001b[0m     \u001b[38;5;28;01mif\u001b[39;00m x_idx\u001b[38;5;241m.\u001b[39msize \u001b[38;5;241m==\u001b[39m \u001b[38;5;241m0\u001b[39m:\n",
      "\u001b[0;31mTypeError\u001b[0m: '<' not supported between instances of 'NoneType' and 'int'"
     ]
    }
   ],
   "source": [
    "#create age bins\n",
    "\n",
    "bins = [-np.inf, 28, 44, 60, 70, 79, 97, 103, np.inf].sort()\n",
    "generation_label = ['Gen Z (Under 28)', 'Millennial (28-43)', 'Gen X (44-59)', 'Young Boomers (60-69)', 'Old Boomers (70-79)', 'Post-War (79-96)', 'WWII (97-102)', 'Depression and Older (103 and older)'  ]\n",
    "working_copy_df['generation'] = pd.cut(working_copy_df['age'], bins=bins, labels=generation_label, right=False).cat.add_categories('missing').fillna('missing')\n",
    "working_copy_df\n",
    "\n",
    "\n"
   ]
  },
  {
   "cell_type": "code",
   "execution_count": 47,
   "id": "512d5980-fd03-4740-88db-14ad00dbda79",
   "metadata": {},
   "outputs": [
    {
     "name": "stdout",
     "output_type": "stream",
     "text": [
      "                 age         \n",
      "               count min  max\n",
      "age_quartile                 \n",
      "Q1            169776  19   34\n",
      "Q2            152973  35   47\n",
      "Q3            161136  48   62\n",
      "Q4            153815  63  115\n"
     ]
    },
    {
     "name": "stderr",
     "output_type": "stream",
     "text": [
      "/var/folders/48/pzsf5jjs0wj756yk19j79q0w0000gn/T/ipykernel_8255/1456331561.py:4: FutureWarning: The default of observed=False is deprecated and will be changed to True in a future version of pandas. Pass observed=False to retain current behavior or observed=True to adopt the future default and silence this warning.\n",
      "  result = working_copy_df.groupby('age_quartile').agg({'age': ['count', 'min', 'max']})\n"
     ]
    }
   ],
   "source": [
    "working_copy_df['age_quartile'] = pd.qcut(working_copy_df['age'], q=4, labels=['Q1', 'Q2', 'Q3', 'Q4'])\n",
    "\n",
    "working_copy_df['age_quartile'].value_counts()\n",
    "result = working_copy_df.groupby('age_quartile').agg({'age': ['count', 'min', 'max']}) \n",
    "print(result)\n",
    "\n"
   ]
  },
  {
   "cell_type": "code",
   "execution_count": null,
   "id": "fc9f4f80-c72f-4e37-9b80-e6187b835b80",
   "metadata": {},
   "outputs": [],
   "source": []
  }
 ],
 "metadata": {
  "kernelspec": {
   "display_name": "Python 3 (ipykernel)",
   "language": "python",
   "name": "python3"
  },
  "language_info": {
   "codemirror_mode": {
    "name": "ipython",
    "version": 3
   },
   "file_extension": ".py",
   "mimetype": "text/x-python",
   "name": "python",
   "nbconvert_exporter": "python",
   "pygments_lexer": "ipython3",
   "version": "3.11.7"
  }
 },
 "nbformat": 4,
 "nbformat_minor": 5
}
